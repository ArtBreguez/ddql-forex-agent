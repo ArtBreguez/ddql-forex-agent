{
 "cells": [
  {
   "cell_type": "markdown",
   "id": "c047a620-f970-4e95-8781-239ad4f9d92d",
   "metadata": {},
   "source": [
    "# Importações"
   ]
  },
  {
   "cell_type": "code",
   "execution_count": 1,
   "id": "aabafee2-a0ae-463b-a3c4-28d51ac7a172",
   "metadata": {},
   "outputs": [
    {
     "name": "stderr",
     "output_type": "stream",
     "text": [
      "2024-02-26 15:32:04.670790: I tensorflow/core/platform/cpu_feature_guard.cc:182] This TensorFlow binary is optimized to use available CPU instructions in performance-critical operations.\n",
      "To enable the following instructions: AVX2 FMA, in other operations, rebuild TensorFlow with the appropriate compiler flags.\n"
     ]
    }
   ],
   "source": [
    "import keras\n",
    "from keras.models import Sequential\n",
    "from keras.models import load_model\n",
    "from keras.layers import Dense\n",
    "from keras.optimizers import Adam\n",
    "import numpy as np\n",
    "import random\n",
    "from collections import deque\n",
    "import sys\n",
    "import math\n",
    "import pandas as pd"
   ]
  },
  {
   "cell_type": "markdown",
   "id": "55e7593f-3120-495b-bb50-ca78ad0da415",
   "metadata": {},
   "source": [
    "# Criando o Agente"
   ]
  },
  {
   "cell_type": "code",
   "execution_count": 2,
   "id": "67511d71-7e49-434e-b8a6-473c12ceff28",
   "metadata": {},
   "outputs": [],
   "source": [
    "class Agent:\n",
    "\tdef __init__(self, state_size, is_eval=False, model_name=\"\"):\n",
    "\t\tself.state_size = state_size # normalized previous days\n",
    "\t\tself.action_size = 3 # hold, buy, sell\n",
    "\t\tself.memory = deque(maxlen=1000)\n",
    "\t\tself.buy_inventory = []\n",
    "\t\tself.sell_inventory = []\n",
    "\t\tself.model_name = model_name\n",
    "\t\tself.is_eval = is_eval\n",
    "\n",
    "\t\tself.gamma = 0.95\n",
    "\t\tself.epsilon = 1.0\n",
    "\t\tself.epsilon_min = 0.01\n",
    "\t\tself.epsilon_decay = 0.995\n",
    "\n",
    "\t\tself.model = load_model(\"models/\" + model_name) if is_eval else self._model()\n",
    "\n",
    "\tdef _model(self):\n",
    "\t\tmodel = Sequential()\n",
    "\t\tmodel.add(Dense(units=64, input_dim=self.state_size, activation=\"relu\"))\n",
    "\t\tmodel.add(Dense(units=32, activation=\"relu\"))\n",
    "\t\tmodel.add(Dense(units=8, activation=\"relu\"))\n",
    "\t\tmodel.add(Dense(self.action_size, activation=\"linear\"))\n",
    "\t\tmodel.compile(loss=\"mse\", optimizer=Adam(lr=0.001))\n",
    "\n",
    "\t\treturn model\n",
    "\n",
    "\tdef act(self, state):\n",
    "\t\tif not self.is_eval and np.random.rand() <= self.epsilon:\n",
    "\t\t\treturn random.randrange(self.action_size)\n",
    "\n",
    "\t\toptions = self.model.predict(state)\n",
    "\t\treturn np.argmax(options[0])\n",
    "\n",
    "\tdef expReplay(self, batch_size):\n",
    "\t\tmini_batch = []\n",
    "\t\tl = len(self.memory)\n",
    "\t\tfor i in range(l - batch_size + 1, l):\n",
    "\t\t\tmini_batch.append(self.memory[i])\n",
    "\n",
    "\t\tfor state, action, reward, next_state, done in mini_batch:\n",
    "\t\t\ttarget = reward\n",
    "\t\t\tif not done:\n",
    "\t\t\t\ttarget = reward + self.gamma * np.amax(self.model.predict(next_state)[0])\n",
    "\n",
    "\t\t\ttarget_f = self.model.predict(state)\n",
    "\t\t\ttarget_f[0][action] = target\n",
    "\t\t\tself.model.fit(state, target_f, epochs=1, verbose=0)\n",
    "\n",
    "\t\tif self.epsilon > self.epsilon_min:\n",
    "\t\t\tself.epsilon *= self.epsilon_decay "
   ]
  },
  {
   "cell_type": "markdown",
   "id": "2d31b1c5-b1fe-4a99-8673-72f1bcfa0691",
   "metadata": {},
   "source": [
    "# Funções Auxiliares"
   ]
  },
  {
   "cell_type": "code",
   "execution_count": 3,
   "id": "cde8310d-c226-4984-bf25-28835f2afff9",
   "metadata": {},
   "outputs": [],
   "source": [
    "# Função para formatar o preço\n",
    "def formatPrice(n):\n",
    "    return (\"-$\" if n < 0 else \"$\") + \"{:.10f}\".format(abs(n))\n",
    "\n",
    "# Função para obter os dados do arquivo CSV\n",
    "def getStockDataVec(file_path):\n",
    "    df = pd.read_csv(file_path)\n",
    "    return df['Close'].tolist()\n",
    "\n",
    "# Função sigmoid\n",
    "def sigmoid(x):\n",
    "    return 1 / (1 + math.exp(-x))\n",
    "\n",
    "# Função para obter o estado\n",
    "def getState(data, t, n):\n",
    "    d = t - n + 1\n",
    "    block = data[d:t + 1] if d >= 0 else -d * [data[0]] + data[0:t + 1]  # Pad with t0\n",
    "    res = []\n",
    "    for i in range(n - 1):\n",
    "        res.append(sigmoid(block[i + 1] - block[i]))\n",
    "    return np.array([res])\n"
   ]
  },
  {
   "cell_type": "code",
   "execution_count": null,
   "id": "2c55cb42-17ae-4d00-aaee-d1a879678a0b",
   "metadata": {},
   "outputs": [],
   "source": []
  }
 ],
 "metadata": {
  "kernelspec": {
   "display_name": "Python 3 (ipykernel)",
   "language": "python",
   "name": "python3"
  },
  "language_info": {
   "codemirror_mode": {
    "name": "ipython",
    "version": 3
   },
   "file_extension": ".py",
   "mimetype": "text/x-python",
   "name": "python",
   "nbconvert_exporter": "python",
   "pygments_lexer": "ipython3",
   "version": "3.8.17"
  }
 },
 "nbformat": 4,
 "nbformat_minor": 5
}
